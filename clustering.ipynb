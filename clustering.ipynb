{
 "cells": [
  {
   "cell_type": "code",
   "execution_count": 1,
   "metadata": {},
   "outputs": [
    {
     "name": "stdout",
     "output_type": "stream",
     "text": [
      "Defaulting to user installation because normal site-packages is not writeable\n",
      "Requirement already satisfied: numpy in /home/mathis/.local/lib/python3.7/site-packages (1.18.5)\n",
      "Requirement already satisfied: matplotlib in /home/mathis/.local/lib/python3.7/site-packages (3.3.2)\n",
      "Requirement already satisfied: pandas in /home/mathis/.local/lib/python3.7/site-packages (1.1.2)\n",
      "Requirement already satisfied: cycler>=0.10 in /home/mathis/.local/lib/python3.7/site-packages (from matplotlib) (0.10.0)\n",
      "Requirement already satisfied: certifi>=2020.06.20 in /home/mathis/.local/lib/python3.7/site-packages (from matplotlib) (2020.6.20)\n",
      "Requirement already satisfied: python-dateutil>=2.1 in /usr/local/lib/python3.7/dist-packages (from matplotlib) (2.8.1)\n",
      "Requirement already satisfied: kiwisolver>=1.0.1 in /home/mathis/.local/lib/python3.7/site-packages (from matplotlib) (1.2.0)\n",
      "Requirement already satisfied: pillow>=6.2.0 in /home/mathis/.local/lib/python3.7/site-packages (from matplotlib) (7.2.0)\n",
      "Requirement already satisfied: pyparsing!=2.0.4,!=2.1.2,!=2.1.6,>=2.0.3 in /home/mathis/.local/lib/python3.7/site-packages (from matplotlib) (2.4.7)\n",
      "Requirement already satisfied: pytz>=2017.2 in /home/mathis/.local/lib/python3.7/site-packages (from pandas) (2020.1)\n",
      "Requirement already satisfied: six in /usr/lib/python3/dist-packages (from cycler>=0.10->matplotlib) (1.12.0)\n"
     ]
    }
   ],
   "source": [
    "!pip3 install numpy matplotlib pandas"
   ]
  },
  {
   "cell_type": "code",
   "execution_count": 2,
   "metadata": {
    "id": "yL___TSyy6iO"
   },
   "outputs": [],
   "source": [
    "import numpy as np\n",
    "import matplotlib.pyplot as plt\n",
    "import pandas as pd\n",
    "import math"
   ]
  },
  {
   "cell_type": "code",
   "execution_count": 3,
   "metadata": {
    "colab": {
     "base_uri": "https://localhost:8080/",
     "height": 265
    },
    "id": "SUkFObh3zDrq",
    "outputId": "87cfa530-f3d2-488d-96ea-59aabb463540"
   },
   "outputs": [
    {
     "name": "stdout",
     "output_type": "stream",
     "text": [
      "<bound method NDFrame.head of            x         y\n",
      "0   1.658985  4.285136\n",
      "1  -3.453687  3.424321\n",
      "2   4.838138  1.151539\n",
      "3  -5.379713 -3.362104\n",
      "4   0.972564  2.924086\n",
      "..       ...       ...\n",
      "75 -2.793241 -2.149706\n",
      "76  2.884105  3.043438\n",
      "77 -2.967647  2.848696\n",
      "78  4.479332 -1.764772\n",
      "79 -4.905566 -2.911070\n",
      "\n",
      "[80 rows x 2 columns]>\n"
     ]
    },
    {
     "data": {
      "image/png": "[encoded data removed]",
      "text/plain": [
       "<Figure size 432x288 with 1 Axes>"
      ]
     },
     "metadata": {
      "needs_background": "light"
     },
     "output_type": "display_data"
    }
   ],
   "source": [
    "df = pd.read_csv(\"data.csv\")\n",
    "print(df.head)\n",
    "\n",
    "x = df.to_numpy()\n",
    "plt.scatter(x[:,0], x[:,1], s=50, color='b')\n",
    "plt.show()"
   ]
  },
  {
   "cell_type": "code",
   "execution_count": 17,
   "metadata": {
    "id": "CEoyYPTdzWnW"
   },
   "outputs": [],
   "source": [
    "class KMeans():\n",
    "  def __init__(self, n_clusters, data):\n",
    "    self.k = n_clusters\n",
    "    self.x = data\n",
    "\n",
    "    # Generating K centroids within the data bounds\n",
    "    # Respecting the diffirent max and min of the X and Y axis\n",
    "    cx = np.random.uniform(low=np.min(self.x[:, 0]), high=np.max(self.x[:, 0]), size=(self.k,1))\n",
    "    cy = np.random.uniform(low=np.min(self.x[:, 1]), high=np.max(self.x[:, 1]), size=(self.k,1))\n",
    "    self.centroids = np.concatenate((cx, cy), axis=1)\n",
    "    \n",
    "    self.labels = self.genLabels()\n",
    "    \n",
    "    self.colors = {0:'red', 1:'blue', 2:'green', 3:'black', 4:'purple', 5:'orange', 6:'brown'}\n",
    "    \n",
    "  def dist(self, p, q):\n",
    "    # Euclidian distance\n",
    "    return math.sqrt(np.sum(np.power(np.subtract(p, q), 2)))\n",
    "\n",
    "  def predict(self, p):\n",
    "    return np.argmin([self.dist(p, centroid) for centroid in self.centroids])\n",
    "    \n",
    "  def genLabels(self):\n",
    "    return np.asarray([self.predict(p) for p in self.x])\n",
    "\n",
    "  def fit(self, epochs, step):\n",
    "    print(f\"\\nFitting for {epochs} epochs with step of {step}\")\n",
    "    for epoch in range(0, epochs):\n",
    "      for i, centroid in enumerate(self.centroids):\n",
    "\n",
    "        # VECTORS!!\n",
    "        l = [1 if item == i else 0 for item in self.labels]\n",
    "        temp = np.matmul(np.transpose(np.subtract(x, centroid)), np.transpose(l))\n",
    "        self.centroids[i] += np.matmul([step], np.divide(temp.reshape(1,2), sum(l)))\n",
    "\n",
    "        # Regenerate the labels\n",
    "        self.labels = self.genLabels()\n",
    "    \n",
    "    print(\"Done fitting!\\n\")\n",
    "\n",
    "  def showPlot(self, classification=False):\n",
    "    plt.figure(1, figsize = (10,10))\n",
    "    \n",
    "    if classification:\n",
    "      for i, p in enumerate(self.x):\n",
    "       plt.scatter(p[0], p[1], color=self.colors[self.labels[i]])\n",
    "      \n",
    "      for i, centroid in enumerate(self.centroids):\n",
    "        plt.scatter(centroid[0], centroid[1], color=self.colors[i], s=100, marker=\"x\")\n",
    "\n",
    "    else:\n",
    "      plt.scatter(self.x[:,0], self.x[:,1], color='blue')\n",
    "\n",
    "      plt.scatter(self.centroids[:,0], self.centroids[:,1], color=\"red\", s=100)\n",
    "\n",
    "    plt.show()\n",
    "    \n",
    "  def printCentroids(self):\n",
    "    print(\"=\"*20)\n",
    "    print(\"Centroids:\")\n",
    "    print(self.centroids)\n"
   ]
  },
  {
   "cell_type": "code",
   "execution_count": 18,
   "metadata": {
    "colab": {
     "base_uri": "https://localhost:8080/",
     "height": 1000
    },
    "id": "JvVj3zla01yc",
    "outputId": "7beceb30-577d-46a0-d603-ed1397e4447b"
   },
   "outputs": [
    {
     "data": {
      "image/png": "[encoded data removed]",
      "text/plain": [
       "<Figure size 720x720 with 1 Axes>"
      ]
     },
     "metadata": {
      "needs_background": "light"
     },
     "output_type": "display_data"
    },
    {
     "name": "stdout",
     "output_type": "stream",
     "text": [
      "====================\n",
      "Centroids:\n",
      "[[-3.5408115   4.94759351]\n",
      " [ 3.5814142  -2.39756776]\n",
      " [ 4.7137091   4.61042219]\n",
      " [ 1.35984178  2.67681418]]\n",
      "\n",
      "Fitting for 100 epochs with step of 0.1\n",
      "Done fitting!\n",
      "\n",
      "====================\n",
      "Centroids:\n",
      "[[-2.46165697  2.78722257]\n",
      " [-3.36871588 -2.9481127 ]\n",
      " [ 2.70392265 -2.80022479]\n",
      " [ 2.72951317  3.01802361]]\n"
     ]
    },
    {
     "data": {
      "image/png": "[encoded data removed]",
      "text/plain": [
       "<Figure size 720x720 with 1 Axes>"
      ]
     },
     "metadata": {
      "needs_background": "light"
     },
     "output_type": "display_data"
    },
    {
     "name": "stdout",
     "output_type": "stream",
     "text": [
      "KMean prediction for [-2, 3] is 0 which is red\n"
     ]
    }
   ],
   "source": [
    "kmeans = KMeans(n_clusters=4, data=x)\n",
    "kmeans.showPlot(classification=True)\n",
    "kmeans.printCentroids()\n",
    "kmeans.fit(epochs=100, step=0.1)\n",
    "kmeans.printCentroids()\n",
    "kmeans.showPlot(classification=True)\n",
    "pred = kmeans.predict([-2, 3])\n",
    "print(f\"KMean prediction for [-2, 3] is {pred} which is {kmeans.colors[pred]}\")"
   ]
  },
  {
   "cell_type": "code",
   "execution_count": null,
   "metadata": {},
   "outputs": [],
   "source": []
  }
 ],
 "metadata": {
  "colab": {
   "collapsed_sections": [],
   "name": "KMeans_from_scratch.ipynb",
   "provenance": []
  },
  "kernelspec": {
   "display_name": "Python 3",
   "language": "python",
   "name": "python3"
  },
  "language_info": {
   "codemirror_mode": {
    "name": "ipython",
    "version": 3
   },
   "file_extension": ".py",
   "mimetype": "text/x-python",
   "name": "python",
   "nbconvert_exporter": "python",
   "pygments_lexer": "ipython3",
   "version": "3.7.3"
  }
 },
 "nbformat": 4,
 "nbformat_minor": 1
}
